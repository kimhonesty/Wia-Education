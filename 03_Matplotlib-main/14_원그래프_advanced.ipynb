{
    "cells": [
        {
            "cell_type": "markdown",
            "metadata": {},
            "source": [
                "# 14. 원 그래프 심화\n",
                "---\n",
                "### 원 그래프 고급 기능\n",
                "- 색상, 도넛 차트, 조건부 표시 등 다양한 스타일링 옵션을 활용한다.\n",
                "- DataFrame 데이터를 활용하여 실제 데이터를 시각화한다.\n"
            ]
        },
        {
            "cell_type": "code",
            "execution_count": 5,
            "metadata": {},
            "outputs": [],
            "source": [
                "import pandas as pd\n",
                "import matplotlib.pyplot as plt\n",
                "import matplotlib\n",
                "\n",
                "matplotlib.rcParams['font.family'] = 'Malgun Gothic' # 한글 폰트 설정\n",
                "# matplotlib.rcParams['font.family'] = 'AppleGothic' # Mac 사용자\n",
                "matplotlib.rcParams['font.size'] = 15 # 폰트 크기 설정\n",
                "matplotlib.rcParams['axes.unicode_minus'] = False # 마이너스 기호 깨짐 방지\n"
            ]
        },
        {
            "cell_type": "code",
            "execution_count": null,
            "metadata": {},
            "outputs": [],
            "source": [
                "# 온라인 쇼핑몰 카테고리별 매출 비율\n",
                "categories = ['의류', '전자제품', '화장품', '식품', '도서', '기타']\n",
                "sales_ratio = [35, 25, 15, 12, 8, 5]  # 매출 비율 (%) 100이 맞지않아도 자동계산됨됨\n"
            ]
        },
        {
            "cell_type": "code",
            "execution_count": 13,
            "metadata": {},
            "outputs": [
                {
                    "data": {
                        "image/png": "[encoded data removed]",
                        "text/plain": [
                            "<Figure size 640x480 with 1 Axes>"
                        ]
                    },
                    "metadata": {},
                    "output_type": "display_data"
                }
            ],
            "source": [
                "categories = ['A', 'B', 'C']\n",
                "sales_ratio = [30, 45, 25]\n",
                "explode = [0, 0.1, 0] # B부분만 강조\n",
                "\n",
                "plt.pie(sales_ratio,\n",
                "        labels=categories,\n",
                "        autopct='%.1f%%',\n",
                "        startangle=90,\n",
                "        explode=explode)\n",
                "plt.show()"
            ]
        },
        {
            "cell_type": "markdown",
            "metadata": {},
            "source": [
                "## 도넛 차트 만들기\n",
                "### wedgeprops 파라미터\n",
                "- **wedgeprops**의 **width** 속성으로 도넛 차트를 만들 수 있다.\n",
                "- width를 0과 1 사이의 값으로 설정하면 중앙에 구멍이 생긴다.\n"
            ]
        },
        {
            "cell_type": "code",
            "execution_count": null,
            "metadata": {},
            "outputs": [],
            "source": []
        },
        {
            "cell_type": "markdown",
            "metadata": {},
            "source": [
                "### 테두리 스타일\n",
                "- **edgecolor**: 조각 테두리 색상\n",
                "- **linewidth**: 테두리 선 두께\n"
            ]
        },
        {
            "cell_type": "code",
            "execution_count": null,
            "metadata": {},
            "outputs": [],
            "source": []
        },
        {
            "cell_type": "markdown",
            "metadata": {},
            "source": [
                "## 조건부 백분율 표시\n",
                "### 사용자 정의 autopct 함수\n",
                "- 특정 조건에 따라 백분율을 선택적으로 표시할 수 있다.\n",
                "- 예: 10% 이상인 경우에만 표시\n"
            ]
        },
        {
            "cell_type": "code",
            "execution_count": null,
            "metadata": {},
            "outputs": [],
            "source": []
        }
    ],
    "metadata": {
        "kernelspec": {
            "display_name": "helloworld",
            "language": "python",
            "name": "python3"
        },
        "language_info": {
            "codemirror_mode": {
                "name": "ipython",
                "version": 3
            },
            "file_extension": ".py",
            "mimetype": "text/x-python",
            "name": "python",
            "nbconvert_exporter": "python",
            "pygments_lexer": "ipython3",
            "version": "3.11.14"
        }
    },
    "nbformat": 4,
    "nbformat_minor": 2
}

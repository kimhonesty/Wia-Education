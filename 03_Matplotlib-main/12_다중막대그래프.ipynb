{
    "cells": [
        {
            "cell_type": "markdown",
            "metadata": {},
            "source": [
                "# 12. 다중 막대 그래프\n",
                "---\n",
                "### 다중 막대 그래프의 활용\n",
                "- 다중 막대 그래프는 여러 데이터 계열을 나란히 배치하여 비교한다.\n",
                "- 각 항목별로 여러 값을 직접 비교할 수 있어 차이를 명확하게 파악할 수 있다.\n",
                "- 누적 막대 그래프와 달리 각 데이터를 독립적으로 비교할 수 있다.\n"
            ]
        },
        {
            "cell_type": "code",
            "execution_count": 1,
            "metadata": {},
            "outputs": [],
            "source": [
                "import pandas as pd\n",
                "import numpy as np\n",
                "import matplotlib.pyplot as plt\n",
                "import matplotlib\n",
                "\n",
                "matplotlib.rcParams['font.family'] = 'Malgun Gothic' # 한글 폰트 설정\n",
                "# matplotlib.rcParams['font.family'] = 'AppleGothic' # Mac 사용자\n",
                "matplotlib.rcParams['font.size'] = 15 # 폰트 크기 설정\n",
                "matplotlib.rcParams['axes.unicode_minus'] = False # 마이너스 기호 깨짐 방지\n"
            ]
        },
        {
            "cell_type": "markdown",
            "metadata": {},
            "source": [
                "## 데이터 준비\n",
                "### 예제 데이터\n",
                "- 학생별 과목 점수 데이터를 준비한다.\n"
            ]
        },
        {
            "cell_type": "code",
            "execution_count": 4,
            "metadata": {},
            "outputs": [],
            "source": [
                "# 학생별 과목 점수\n",
                "students = ['박태근', '이영희', '박지성', '최민아']\n",
                "국어 = [85, 90, 78, 88]\n",
                "영어 = [88, 85, 92, 90]\n",
                "수학 = [90, 88, 85, 92]\n"
            ]
        },
        {
            "cell_type": "markdown",
            "metadata": {},
            "source": [
                "## NumPy 배열 활용하기\n",
                "### np.arange()로 인덱스 생성\n",
                "- 다중 막대 그래프를 그리려면 각 막대의 위치를 계산해야 한다.\n",
                "- **np.arange()** 를 사용하여 연속된 숫자 배열을 생성한다.\n"
            ]
        },
        {
            "cell_type": "code",
            "execution_count": 6,
            "metadata": {},
            "outputs": [
                {
                    "data": {
                        "text/plain": [
                            "array([0, 1, 2, 3])"
                        ]
                    },
                    "execution_count": 6,
                    "metadata": {},
                    "output_type": "execute_result"
                }
            ],
            "source": [
                "num = len(students)\n",
                "index = np.arange(num)\n",
                "\n",
                "index\n",
                "\n"
            ]
        },
        {
            "cell_type": "markdown",
            "metadata": {},
            "source": [
                "## 다중 막대 그래프 그리기\n",
                "### 막대 위치 계산하기\n",
                "- 막대의 너비(width)를 설정하고, 각 막대의 위치를 조정하여 나란히 배치한다.\n",
                "- 첫 번째 막대는 왼쪽에, 두 번째는 중앙에, 세 번째는 오른쪽에 배치한다.\n"
            ]
        },
        {
            "cell_type": "code",
            "execution_count": 19,
            "metadata": {},
            "outputs": [
                {
                    "data": {
                        "image/png": "[encoded data removed]",
                        "text/plain": [
                            "<Figure size 1000x600 with 1 Axes>"
                        ]
                    },
                    "metadata": {},
                    "output_type": "display_data"
                }
            ],
            "source": [
                "num = len(students)\n",
                "index = np.arange(num)  #[0,1,2,3] - > students만큼의 \n",
                "\n",
                "\n",
                "w = 0.25\n",
                "\n",
                "plt.figure(figsize=(10,6))\n",
                "\n",
                "plt.bar(index-w, 국어, width = w, label = '국어')\n",
                "plt.bar(index, 영어, width = w, label = '영어')\n",
                "plt.bar(index+w, 수학, width = w, label = '수학')\n",
                "\n",
                "\n",
                "plt.xticks(index, students)\n",
                "plt.ylim(75, 100)\n",
                "plt.legend(loc='upper left', ncol=3)\n",
                "\n",
                "plt.show()\n",
                "\n",
                "\n"
            ]
        },
        {
            "cell_type": "markdown",
            "metadata": {},
            "source": [
                "### 그래프 크기 조정\n",
                "- **figure(figsize=(width, height))** 로 그래프 크기를 조정할 수 있다.\n",
                "- 데이터가 많을 때 그래프를 크게 만들면 더 보기 좋다.\n"
            ]
        },
        {
            "cell_type": "code",
            "execution_count": null,
            "metadata": {},
            "outputs": [],
            "source": []
        },
        {
            "cell_type": "markdown",
            "metadata": {},
            "source": [
                "## 실전 예제: 고객 데이터 시각화\n",
                "### 도시별 평균 데이터 비교\n",
                "- customers3.csv 파일의 데이터를 사용하여 도시별 평균을 비교해보자.\n"
            ]
        },
        {
            "cell_type": "code",
            "execution_count": 20,
            "metadata": {},
            "outputs": [
                {
                    "data": {
                        "text/html": [
                            "<div>\n",
                            "<style scoped>\n",
                            "    .dataframe tbody tr th:only-of-type {\n",
                            "        vertical-align: middle;\n",
                            "    }\n",
                            "\n",
                            "    .dataframe tbody tr th {\n",
                            "        vertical-align: top;\n",
                            "    }\n",
                            "\n",
                            "    .dataframe thead th {\n",
                            "        text-align: right;\n",
                            "    }\n",
                            "</style>\n",
                            "<table border=\"1\" class=\"dataframe\">\n",
                            "  <thead>\n",
                            "    <tr style=\"text-align: right;\">\n",
                            "      <th></th>\n",
                            "      <th>나이</th>\n",
                            "      <th>평균구매액(만원)</th>\n",
                            "      <th>고객만족도(점)</th>\n",
                            "    </tr>\n",
                            "    <tr>\n",
                            "      <th>거주도시</th>\n",
                            "      <th></th>\n",
                            "      <th></th>\n",
                            "      <th></th>\n",
                            "    </tr>\n",
                            "  </thead>\n",
                            "  <tbody>\n",
                            "    <tr>\n",
                            "      <th>구로</th>\n",
                            "      <td>28.0</td>\n",
                            "      <td>88.0</td>\n",
                            "      <td>94.0</td>\n",
                            "    </tr>\n",
                            "    <tr>\n",
                            "      <th>시흥</th>\n",
                            "      <td>31.0</td>\n",
                            "      <td>82.5</td>\n",
                            "      <td>81.5</td>\n",
                            "    </tr>\n",
                            "    <tr>\n",
                            "      <th>안양</th>\n",
                            "      <td>30.0</td>\n",
                            "      <td>92.0</td>\n",
                            "      <td>88.0</td>\n",
                            "    </tr>\n",
                            "    <tr>\n",
                            "      <th>울산</th>\n",
                            "      <td>35.0</td>\n",
                            "      <td>110.0</td>\n",
                            "      <td>91.0</td>\n",
                            "    </tr>\n",
                            "    <tr>\n",
                            "      <th>일산</th>\n",
                            "      <td>29.0</td>\n",
                            "      <td>125.0</td>\n",
                            "      <td>96.0</td>\n",
                            "    </tr>\n",
                            "    <tr>\n",
                            "      <th>창원</th>\n",
                            "      <td>40.0</td>\n",
                            "      <td>105.0</td>\n",
                            "      <td>82.0</td>\n",
                            "    </tr>\n",
                            "    <tr>\n",
                            "      <th>파주</th>\n",
                            "      <td>31.0</td>\n",
                            "      <td>65.0</td>\n",
                            "      <td>77.0</td>\n",
                            "    </tr>\n",
                            "  </tbody>\n",
                            "</table>\n",
                            "</div>"
                        ],
                        "text/plain": [
                            "        나이  평균구매액(만원)  고객만족도(점)\n",
                            "거주도시                           \n",
                            "구로    28.0       88.0      94.0\n",
                            "시흥    31.0       82.5      81.5\n",
                            "안양    30.0       92.0      88.0\n",
                            "울산    35.0      110.0      91.0\n",
                            "일산    29.0      125.0      96.0\n",
                            "창원    40.0      105.0      82.0\n",
                            "파주    31.0       65.0      77.0"
                        ]
                    },
                    "execution_count": 20,
                    "metadata": {},
                    "output_type": "execute_result"
                }
            ],
            "source": [
                "# 고객 데이터 불러오기\n",
                "df = pd.read_csv('../02_Pandas/data/customers3.csv', encoding='utf-8')\n",
                "\n",
                "# 도시별 평균 계산\n",
                "city_avg = df.groupby('거주도시')[['나이', '평균구매액(만원)', '고객만족도(점)']].mean()\n",
                "city_avg\n"
            ]
        },
        {
            "cell_type": "code",
            "execution_count": 27,
            "metadata": {},
            "outputs": [
                {
                    "data": {
                        "image/png": "[encoded data removed]",
                        "text/plain": [
                            "<Figure size 640x480 with 1 Axes>"
                        ]
                    },
                    "metadata": {},
                    "output_type": "display_data"
                }
            ],
            "source": [
                "import pandas as pd\n",
                "import matplotlib.pyplot as plt\n",
                "\n",
                "# 데이터 불러오기\n",
                "df = pd.read_csv('../02_Pandas/data/customers3.csv', encoding='utf-8')\n",
                "\n",
                "# 도시별 평균 구하기\n",
                "city_avg = df.groupby('거주도시')[['나이', '평균구매액(만원)', '고객만족도(점)']].mean()\n",
                "\n",
                "# 바 그래프 그리기\n",
                "city_avg.plot(kind='bar')              # city_avg의 모든 수치 데이터를 도시별로 바 그래프로!\n",
                "plt.title('도시별 고객 평균')\n",
                "plt.xlabel('도시')\n",
                "plt.ylabel('평균 값')\n",
                "plt.xticks(rotation=0)                 # 도시 이름이 보이도록 x축 라벨 회전 (보기 편하게)\n",
                "plt.legend(fontsize = 'xx-small', loc='upper right', ncol=3)\n",
                "plt.tight_layout()\n",
                "plt.show()"
            ]
        }
    ],
    "metadata": {
        "kernelspec": {
            "display_name": "helloworld",
            "language": "python",
            "name": "python3"
        },
        "language_info": {
            "codemirror_mode": {
                "name": "ipython",
                "version": 3
            },
            "file_extension": ".py",
            "mimetype": "text/x-python",
            "name": "python",
            "nbconvert_exporter": "python",
            "pygments_lexer": "ipython3",
            "version": "3.11.14"
        }
    },
    "nbformat": 4,
    "nbformat_minor": 2
}

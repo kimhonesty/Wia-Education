{
    "cells": [
        {
            "cell_type": "markdown",
            "metadata": {},
            "source": [
                "# 13. 원 그래프 (Pie Chart)\n",
                "---\n",
                "### 원 그래프의 특징\n",
                "- 원 그래프는 전체에서 각 항목이 차지하는 비율을 시각화하는 데 효과적이다.\n",
                "- 각 부분의 크기를 직관적으로 비교할 수 있다.\n"
            ]
        },
        {
            "cell_type": "code",
            "execution_count": 2,
            "metadata": {},
            "outputs": [],
            "source": [
                "import pandas as pd\n",
                "import matplotlib.pyplot as plt\n",
                "import matplotlib\n",
                "\n",
                "matplotlib.rcParams['font.family'] = 'Malgun Gothic' # 한글 폰트 설정\n",
                "# matplotlib.rcParams['font.family'] = 'AppleGothic' # Mac 사용자\n",
                "matplotlib.rcParams['font.size'] = 15 # 폰트 크기 설정\n",
                "matplotlib.rcParams['axes.unicode_minus'] = False # 마이너스 기호 깨짐 방지\n"
            ]
        },
        {
            "cell_type": "markdown",
            "metadata": {},
            "source": [
                "## 기본 원 그래프\n",
                "### pie() 함수\n",
                "- **pie()** 함수를 사용하여 원 그래프를 그린다.\n",
                "- **autopct**: 백분율 표시 형식\n",
                "- **startangle**: 시작 각도\n",
                "- **counterclock**: 반시계 방향 여부\n"
            ]
        },
        {
            "cell_type": "code",
            "execution_count": 7,
            "metadata": {},
            "outputs": [
                {
                    "data": {
                        "image/png": "[encoded data removed]",
                        "text/plain": [
                            "<Figure size 640x480 with 1 Axes>"
                        ]
                    },
                    "metadata": {},
                    "output_type": "display_data"
                }
            ],
            "source": [
                "brands = ['삼성', '애플', 'LG', '기타']\n",
                "market_share = [45, 30, 15, 10]  ##백분율로 표시됨\n",
                "explode = [0.1, 0.1, 0.1, 0.1]\n",
                "\n",
                "plt.pie(market_share, labels=brands)\n",
                "\n",
                "plt.show()\n"
            ]
        },
        {
            "cell_type": "markdown",
            "metadata": {},
            "source": [
                "## 조각 분리하기\n",
                "### explode 파라미터\n",
                "- **explode**를 사용하여 특정 조각을 중심에서 분리할 수 있다.\n",
                "- 강조하고 싶은 항목을 돋보이게 만들 수 있다.\n"
            ]
        },
        {
            "cell_type": "code",
            "execution_count": 6,
            "metadata": {},
            "outputs": [],
            "source": [
                "brands = '삼성', '애플', 'LG', '기타'"
            ]
        },
        {
            "cell_type": "markdown",
            "metadata": {},
            "source": [
                "### 모든 조각 분리\n",
                "- 모든 조각을 동일하게 분리할 수도 있다.\n"
            ]
        },
        {
            "cell_type": "code",
            "execution_count": null,
            "metadata": {},
            "outputs": [],
            "source": []
        },
        {
            "cell_type": "markdown",
            "metadata": {},
            "source": [
                "## 범례 추가하기\n",
                "### legend() 함수\n",
                "- 원 그래프에도 범례를 추가할 수 있다.\n",
                "- **loc**: 범례 위치 지정\n",
                "- **title**: 범례 제목\n"
            ]
        },
        {
            "cell_type": "code",
            "execution_count": null,
            "metadata": {},
            "outputs": [],
            "source": []
        }
    ],
    "metadata": {
        "kernelspec": {
            "display_name": "helloworld",
            "language": "python",
            "name": "python3"
        },
        "language_info": {
            "codemirror_mode": {
                "name": "ipython",
                "version": 3
            },
            "file_extension": ".py",
            "mimetype": "text/x-python",
            "name": "python",
            "nbconvert_exporter": "python",
            "pygments_lexer": "ipython3",
            "version": "3.11.14"
        }
    },
    "nbformat": 4,
    "nbformat_minor": 2
}

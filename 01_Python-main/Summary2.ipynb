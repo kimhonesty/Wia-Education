{
 "cells": [
  {
   "cell_type": "markdown",
   "id": "a290e5dc",
   "metadata": {},
   "source": [
    "### 조건문\n",
    "```이건 텍스트 표현식 입니다."
   ]
  },
  {
   "cell_type": "code",
   "execution_count": null,
   "id": "baaf7194",
   "metadata": {},
   "outputs": [],
   "source": [
    "if[조건식] : \n",
    "    [실행할 코드]\n",
    "\n",
    "else : \n",
    "    [조건들에서 전부 False가 나왔을 때 실행될 코드]"
   ]
  },
  {
   "cell_type": "code",
   "execution_count": 15,
   "id": "2f4fb12d",
   "metadata": {},
   "outputs": [
    {
     "name": "stdout",
     "output_type": "stream",
     "text": [
      "적당히 잘하셨습니다.\n"
     ]
    }
   ],
   "source": [
    "score = 85\n",
    "\n",
    "if score > 85 : \n",
    "    print(\"잘하셨습니다.\")\n",
    "elif score > 80:\n",
    "    print(\"적당히 잘하셨습니다.\")\n",
    "\n",
    "else:\n",
    "    print(\"못하셨습니다.\")"
   ]
  },
  {
   "cell_type": "code",
   "execution_count": null,
   "id": "8108ba3a",
   "metadata": {},
   "outputs": [],
   "source": [
    "match [비교할대상]:\n",
    "    case[비교할 값]:\n",
    "        [실행될 코드]\n",
    "    case[비교할 값]:\n",
    "        [실행될 코드]\n",
    "    case[비교할 값]:\n",
    "        [실행될 코드]\n"
   ]
  },
  {
   "cell_type": "code",
   "execution_count": 18,
   "id": "8b715089",
   "metadata": {},
   "outputs": [
    {
     "name": "stdout",
     "output_type": "stream",
     "text": [
      "그냥그런 날입니다.\n"
     ]
    }
   ],
   "source": [
    "day = '목요일'\n",
    "\n",
    "match day:\n",
    "    case'월요일':\n",
    "        print('월요일입니다.')\n",
    "        \n",
    "    case'화요일':\n",
    "        print('화요일입니다.')\n",
    "    case'수요일':\n",
    "        print('수요일입니다.')    \n",
    "\n",
    "    case _:\n",
    "        print('그냥그런 날입니다.')\n",
    "       "
   ]
  },
  {
   "cell_type": "code",
   "execution_count": null,
   "id": "ae27169a",
   "metadata": {},
   "outputs": [],
   "source": [
    "### for 문\n",
    "\n",
    "```python\n",
    "for [변수] in [반복가능한객체]:\n",
    "    [반복시킬 문장]\n"
   ]
  },
  {
   "cell_type": "code",
   "execution_count": 19,
   "id": "58c2b12c",
   "metadata": {},
   "outputs": [
    {
     "name": "stdout",
     "output_type": "stream",
     "text": [
      "num은 1 입니다.\n",
      "num은 2 입니다.\n",
      "num은 3 입니다.\n",
      "num은 4 입니다.\n",
      "num은 5 입니다.\n"
     ]
    }
   ],
   "source": [
    "list = [1,2,3,4,5]\n",
    "\n",
    "for num in list:\n",
    "    print(f\"num은 {num} 입니다.\")"
   ]
  },
  {
   "cell_type": "code",
   "execution_count": 22,
   "id": "fb049831",
   "metadata": {},
   "outputs": [
    {
     "name": "stdout",
     "output_type": "stream",
     "text": [
      "num은 0입니다.\n",
      "num은 1입니다.\n",
      "num은 2입니다.\n",
      "num은 3입니다.\n",
      "num은 4입니다.\n",
      "num은 5입니다.\n",
      "num은 6입니다.\n",
      "num은 7입니다.\n",
      "num은 8입니다.\n",
      "num은 9입니다.\n",
      "num은 10입니다.\n",
      "num은 11입니다.\n",
      "num은 12입니다.\n",
      "num은 13입니다.\n",
      "num은 14입니다.\n",
      "num은 15입니다.\n",
      "num은 16입니다.\n",
      "num은 17입니다.\n",
      "num은 18입니다.\n",
      "num은 19입니다.\n",
      "num은 20입니다.\n",
      "num은 21입니다.\n",
      "num은 22입니다.\n",
      "num은 23입니다.\n",
      "num은 24입니다.\n",
      "num은 25입니다.\n",
      "num은 26입니다.\n",
      "num은 27입니다.\n",
      "num은 28입니다.\n",
      "num은 29입니다.\n",
      "num은 30입니다.\n",
      "num은 31입니다.\n",
      "num은 32입니다.\n",
      "num은 33입니다.\n",
      "num은 34입니다.\n",
      "num은 35입니다.\n",
      "num은 36입니다.\n",
      "num은 37입니다.\n",
      "num은 38입니다.\n",
      "num은 39입니다.\n",
      "num은 40입니다.\n",
      "num은 41입니다.\n",
      "num은 42입니다.\n",
      "num은 43입니다.\n",
      "num은 44입니다.\n",
      "num은 45입니다.\n",
      "num은 46입니다.\n",
      "num은 47입니다.\n",
      "num은 48입니다.\n",
      "num은 49입니다.\n"
     ]
    }
   ],
   "source": [
    "list = [1,2,3,4,5]\n",
    "\n",
    "for num in range(50):\n",
    "    print(f\"num은 {num}입니다.\")"
   ]
  },
  {
   "cell_type": "code",
   "execution_count": null,
   "id": "25058db9",
   "metadata": {},
   "outputs": [],
   "source": [
    "While [조건식]\n",
    "      [반복할 코드]\n"
   ]
  },
  {
   "cell_type": "code",
   "execution_count": 26,
   "id": "eb2106b5",
   "metadata": {},
   "outputs": [
    {
     "name": "stdout",
     "output_type": "stream",
     "text": [
      "카운트 : 0\n",
      "카운트 : 1\n",
      "카운트 : 2\n"
     ]
    }
   ],
   "source": [
    "count = 0\n",
    "while count < 3:\n",
    "    print(f'카운트 : {count}')\n",
    "\n",
    "    count += 1\n",
    "          "
   ]
  },
  {
   "cell_type": "code",
   "execution_count": 39,
   "id": "c6ba68e1",
   "metadata": {},
   "outputs": [
    {
     "name": "stdout",
     "output_type": "stream",
     "text": [
      "입력하신 숫자는 5 입니다.\n"
     ]
    }
   ],
   "source": [
    "while True:\n",
    "\n",
    "    num = input('숫자를 입력하세요')\n",
    "\n",
    "    print(f'입력하신 숫자는 {num} 입니다.')\n",
    "\n",
    "    if num=='5':\n",
    "        break #분기문 break : 반복문을 완전히 종료"
   ]
  },
  {
   "cell_type": "code",
   "execution_count": null,
   "id": "18376406",
   "metadata": {},
   "outputs": [],
   "source": [
    "while True:\n",
    "\n",
    "    num = input('숫자를 입력하세요')\n",
    "\n",
    "  \n",
    "    if num=='3':\n",
    "        continue\n",
    "        break #분기문 break : 반복문을 완전히 종료"
   ]
  },
  {
   "cell_type": "code",
   "execution_count": null,
   "id": "9c5e8810",
   "metadata": {},
   "outputs": [],
   "source": [
    "basic_function()\n",
    "\n"
   ]
  },
  {
   "cell_type": "code",
   "execution_count": 43,
   "id": "f86ad382",
   "metadata": {},
   "outputs": [
    {
     "name": "stdout",
     "output_type": "stream",
     "text": [
      "안녕하세요\n",
      "5+10 계산하겠습니다.\n",
      "15\n",
      "안녕하세요\n",
      "5+10 계산하겠습니다.\n",
      "15\n",
      "안녕하세요\n",
      "5+10 계산하겠습니다.\n",
      "15\n"
     ]
    }
   ],
   "source": [
    "def function():\n",
    "    print(\"안녕하세요\")\n",
    "    print(\"5+10 계산하겠습니다.\")\n",
    "    print(\"15\")\n",
    "\n",
    "function()\n",
    "function()\n",
    "function()\n",
    "\n"
   ]
  },
  {
   "cell_type": "code",
   "execution_count": 45,
   "id": "25a3fb47",
   "metadata": {},
   "outputs": [],
   "source": [
    "def cal_sum(x, y):\n",
    "    print(\"안녕하세요\")\n",
    "    print(f\"{x} + {y} 계산을 하겠습니다.\")\n",
    "    print(x + y)"
   ]
  },
  {
   "cell_type": "code",
   "execution_count": 46,
   "id": "97e6a960",
   "metadata": {},
   "outputs": [
    {
     "name": "stdout",
     "output_type": "stream",
     "text": [
      "안녕하세요\n",
      "3 + 5 계산을 하겠습니다.\n",
      "8\n"
     ]
    }
   ],
   "source": [
    "cal_sum(3,5)"
   ]
  },
  {
   "cell_type": "code",
   "execution_count": 47,
   "id": "eb34fbf1",
   "metadata": {},
   "outputs": [
    {
     "name": "stdout",
     "output_type": "stream",
     "text": [
      "안녕하세요\n",
      "10 + 30 계산을 하겠습니다.\n",
      "40\n"
     ]
    }
   ],
   "source": [
    "def cal_sum(x = 1, y = 1):\n",
    "    print(\"안녕하세요\")\n",
    "    print(f\"{x} + {y} 계산을 하겠습니다.\")\n",
    "    print(x + y)\n",
    "\n",
    "cal_sum(10,30)"
   ]
  },
  {
   "cell_type": "code",
   "execution_count": null,
   "id": "3102c3d0",
   "metadata": {},
   "outputs": [],
   "source": [
    "def cal_sum(x = 1, y = 1):\n",
    "    print(\"안녕하세요\")\n",
    "    print(f\"{x} + {y} 계산을 하겠습니다.\")\n",
    "    print(x + y)"
   ]
  },
  {
   "cell_type": "code",
   "execution_count": 48,
   "id": "8e912052",
   "metadata": {},
   "outputs": [
    {
     "name": "stdout",
     "output_type": "stream",
     "text": [
      "안녕하세요\n",
      "10 + 30 계산을 하겠습니다.\n",
      "40\n",
      "안녕하세요\n",
      "3 + 5 계산을 하겠습니다.\n",
      "8\n"
     ]
    }
   ],
   "source": [
    "cal_sum(10,30)\n",
    "\n",
    "cal_sum(x=3, y=5 )\n"
   ]
  },
  {
   "cell_type": "code",
   "execution_count": 49,
   "id": "eff98bde",
   "metadata": {},
   "outputs": [],
   "source": [
    "def cal_sum(x =1, y = 1):\n",
    "    result = x+y\n",
    "    return result"
   ]
  },
  {
   "cell_type": "code",
   "execution_count": 51,
   "id": "b3496244",
   "metadata": {},
   "outputs": [
    {
     "name": "stdout",
     "output_type": "stream",
     "text": [
      "12\n"
     ]
    }
   ],
   "source": [
    "print(cal_sum(4,8))"
   ]
  },
  {
   "cell_type": "code",
   "execution_count": 56,
   "id": "1dca1745",
   "metadata": {},
   "outputs": [],
   "source": [
    "def cal(x =1, y = 1):\n",
    "\n",
    "    return (x+y, x-y, x*y)"
   ]
  },
  {
   "cell_type": "code",
   "execution_count": 57,
   "id": "395fde9d",
   "metadata": {},
   "outputs": [
    {
     "data": {
      "text/plain": [
       "(8, -2, 15)"
      ]
     },
     "execution_count": 57,
     "metadata": {},
     "output_type": "execute_result"
    }
   ],
   "source": [
    "cal(3,5)"
   ]
  },
  {
   "cell_type": "code",
   "execution_count": 61,
   "id": "08775104",
   "metadata": {},
   "outputs": [],
   "source": [
    "def cal_sum(*args):\n",
    "\n",
    "    reuslt = 0\n",
    "    for i in args:\n",
    "        result = result + i\n",
    "\n",
    "    return result"
   ]
  },
  {
   "cell_type": "code",
   "execution_count": 62,
   "id": "e009a040",
   "metadata": {},
   "outputs": [
    {
     "ename": "UnboundLocalError",
     "evalue": "cannot access local variable 'result' where it is not associated with a value",
     "output_type": "error",
     "traceback": [
      "\u001b[31m---------------------------------------------------------------------------\u001b[39m",
      "\u001b[31mUnboundLocalError\u001b[39m                         Traceback (most recent call last)",
      "\u001b[36mCell\u001b[39m\u001b[36m \u001b[39m\u001b[32mIn[62]\u001b[39m\u001b[32m, line 1\u001b[39m\n\u001b[32m----> \u001b[39m\u001b[32m1\u001b[39m \u001b[43mcal_sum\u001b[49m\u001b[43m(\u001b[49m\u001b[32;43m1\u001b[39;49m\u001b[43m,\u001b[49m\u001b[32;43m2\u001b[39;49m\u001b[43m,\u001b[49m\u001b[32;43m3\u001b[39;49m\u001b[43m,\u001b[49m\u001b[32;43m4\u001b[39;49m\u001b[43m,\u001b[49m\u001b[32;43m5\u001b[39;49m\u001b[43m,\u001b[49m\u001b[32;43m6\u001b[39;49m\u001b[43m)\u001b[49m\n\u001b[32m      2\u001b[39m cal_sum(\u001b[32m1\u001b[39m,\u001b[32m4\u001b[39m)\n",
      "\u001b[36mCell\u001b[39m\u001b[36m \u001b[39m\u001b[32mIn[61]\u001b[39m\u001b[32m, line 5\u001b[39m, in \u001b[36mcal_sum\u001b[39m\u001b[34m(*args)\u001b[39m\n\u001b[32m      3\u001b[39m reuslt = \u001b[32m0\u001b[39m\n\u001b[32m      4\u001b[39m \u001b[38;5;28;01mfor\u001b[39;00m i \u001b[38;5;129;01min\u001b[39;00m args:\n\u001b[32m----> \u001b[39m\u001b[32m5\u001b[39m     result = \u001b[43mresult\u001b[49m + i\n\u001b[32m      7\u001b[39m \u001b[38;5;28;01mreturn\u001b[39;00m result\n",
      "\u001b[31mUnboundLocalError\u001b[39m: cannot access local variable 'result' where it is not associated with a value"
     ]
    }
   ],
   "source": [
    "cal_sum(1,2,3,4,5,6)\n",
    "cal_sum(1,4)"
   ]
  }
 ],
 "metadata": {
  "kernelspec": {
   "display_name": "helloworld",
   "language": "python",
   "name": "python3"
  },
  "language_info": {
   "codemirror_mode": {
    "name": "ipython",
    "version": 3
   },
   "file_extension": ".py",
   "mimetype": "text/x-python",
   "name": "python",
   "nbconvert_exporter": "python",
   "pygments_lexer": "ipython3",
   "version": "3.11.14"
  }
 },
 "nbformat": 4,
 "nbformat_minor": 5
}

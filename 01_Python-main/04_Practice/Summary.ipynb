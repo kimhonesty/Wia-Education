{
 "cells": [
  {
   "cell_type": "markdown",
   "id": "fd25339a",
   "metadata": {},
   "source": [
    "### 자료구조\n",
    "\n",
    "### 리스트\n",
    "\n",
    "특징 \n",
    "- 순서가 있는 데이터 구조m"
   ]
  },
  {
   "cell_type": "markdown",
   "id": "37421dad",
   "metadata": {},
   "source": [
    "my_list = [1,2,3,4,2]\n",
    "\n",
    "print(my_list)\n",
    "\n",
    "my_list = [1,2,3,4,5]\n",
    "my_list.append(4)\n",
    "print(my_list)"
   ]
  },
  {
   "cell_type": "code",
   "execution_count": 4,
   "id": "963ce854",
   "metadata": {},
   "outputs": [
    {
     "ename": "NameError",
     "evalue": "name 'my_list' is not defined",
     "output_type": "error",
     "traceback": [
      "\u001b[31m---------------------------------------------------------------------------\u001b[39m",
      "\u001b[31mNameError\u001b[39m                                 Traceback (most recent call last)",
      "\u001b[36mCell\u001b[39m\u001b[36m \u001b[39m\u001b[32mIn[4]\u001b[39m\u001b[32m, line 1\u001b[39m\n\u001b[32m----> \u001b[39m\u001b[32m1\u001b[39m \u001b[43mmy_list\u001b[49m[\u001b[32m2\u001b[39m]\n",
      "\u001b[31mNameError\u001b[39m: name 'my_list' is not defined"
     ]
    }
   ],
   "source": [
    "my_list[2]"
   ]
  },
  {
   "cell_type": "code",
   "execution_count": null,
   "id": "5ef82091",
   "metadata": {},
   "outputs": [],
   "source": [
    "### 튜플\n",
    "- 순서가 있는 데이터 구조 -> index\n"
   ]
  },
  {
   "cell_type": "code",
   "execution_count": 7,
   "id": "897b28ea",
   "metadata": {},
   "outputs": [
    {
     "name": "stdout",
     "output_type": "stream",
     "text": [
      "(1, 2, 3, 4, 4)\n"
     ]
    }
   ],
   "source": [
    "tuple = (1,2,3,4,4) ## 중복 허용\n",
    "print(tuple)"
   ]
  },
  {
   "cell_type": "code",
   "execution_count": null,
   "id": "ce08fbfa",
   "metadata": {},
   "outputs": [],
   "source": [
    "tuple = (1,2,3,4)\n",
    "\n",
    "tuple[3] = '1'\n"
   ]
  },
  {
   "cell_type": "code",
   "execution_count": null,
   "id": "8e4c838a",
   "metadata": {},
   "outputs": [],
   "source": [
    "### 딕셔너리 \n",
    "\n",
    "- Key - Value 쌍"
   ]
  },
  {
   "cell_type": "code",
   "execution_count": 13,
   "id": "3feefa27",
   "metadata": {},
   "outputs": [],
   "source": [
    "dict = {\n",
    "    'name' : '김정직',\n",
    "    'age' : 38,\n",
    "    'city' : '동탄'\n",
    "}\n"
   ]
  },
  {
   "cell_type": "code",
   "execution_count": 15,
   "id": "066413da",
   "metadata": {},
   "outputs": [
    {
     "name": "stdout",
     "output_type": "stream",
     "text": [
      "김정직\n",
      "서울\n",
      "{'name': '김정직', 'age': 38, 'city': '서울', 'job': 'teacher'}\n"
     ]
    }
   ],
   "source": [
    "print(dict['name'])\n",
    "dict['city'] = '서울'\n",
    "print(dict['city'])\n",
    "\n",
    "dict['job'] = 'teacher'\n",
    "\n",
    "print(dict)"
   ]
  },
  {
   "cell_type": "markdown",
   "id": "44f53a48",
   "metadata": {},
   "source": [
    "dict2 = {\n",
    "    'name' : '김정직2',\n",
    "    'age' : 293,\n",
    "    'city' : '동탄2'\n",
    "}\n",
    "\n",
    "dict_list = [dict, dict2]\n",
    "\n",
    "print(dict_list)\n"
   ]
  },
  {
   "cell_type": "markdown",
   "id": "0dae78bf",
   "metadata": {},
   "source": [
    "### Set\n",
    "- 중복 불허용\n",
    "- 순서가 없음"
   ]
  },
  {
   "cell_type": "code",
   "execution_count": 22,
   "id": "7f77729f",
   "metadata": {},
   "outputs": [
    {
     "name": "stdout",
     "output_type": "stream",
     "text": [
      "{1, 2, 3, 4, 5}\n"
     ]
    }
   ],
   "source": [
    "set = {1,2,3,4,5,1}\n",
    "\n",
    "print(set)"
   ]
  }
 ],
 "metadata": {
  "kernelspec": {
   "display_name": "helloworld",
   "language": "python",
   "name": "python3"
  },
  "language_info": {
   "codemirror_mode": {
    "name": "ipython",
    "version": 3
   },
   "file_extension": ".py",
   "mimetype": "text/x-python",
   "name": "python",
   "nbconvert_exporter": "python",
   "pygments_lexer": "ipython3",
   "version": "3.11.14"
  }
 },
 "nbformat": 4,
 "nbformat_minor": 5
}

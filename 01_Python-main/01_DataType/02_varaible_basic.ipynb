{
 "cells": [
  {
   "cell_type": "markdown",
   "metadata": {},
   "source": [
    "# 02. 기본 자료형\n",
    "---"
   ]
  },
  {
   "cell_type": "markdown",
   "metadata": {},
   "source": [
    "## 숫자형 (Numeric)\n",
    "\n",
    "### 숫자 자료형의 종류\n",
    "* 파이썬에서는 정수, 실수, 복소수 등 숫자를 표현하는 자료형을 모두 숫자 자료형이라고 표현한다."
   ]
  },
  {
   "cell_type": "code",
   "execution_count": 2,
   "metadata": {},
   "outputs": [
    {
     "name": "stdout",
     "output_type": "stream",
     "text": [
      "<class 'float'>\n"
     ]
    }
   ],
   "source": [
    "# 정수\n",
    "num1 = 1\n",
    "num1 = 3.14\n",
    "print(type(num1))\n"
   ]
  },
  {
   "cell_type": "markdown",
   "metadata": {},
   "source": [
    "### 숫자 자료형의 연산\n",
    "* 숫자 자료형간에 기본적인 사칙연산과 파이썬에서만 가능한 특수연산을 할 수 있다."
   ]
  },
  {
   "cell_type": "code",
   "execution_count": null,
   "metadata": {},
   "outputs": [
    {
     "name": "stdout",
     "output_type": "stream",
     "text": [
      "13\n",
      "7\n",
      "30\n",
      "3.3333333333333335\n",
      "1\n"
     ]
    }
   ],
   "source": [
    "num1 = 10\n",
    "num2 = 3\n",
    "\n",
    "print(num1 + num2)\n",
    "print(num1 - num2)\n",
    "print(num1 * num2)\n",
    "print(num1 / num2)\n",
    "print(num1 % num2)"
   ]
  },
  {
   "cell_type": "code",
   "execution_count": 8,
   "metadata": {},
   "outputs": [
    {
     "name": "stdout",
     "output_type": "stream",
     "text": [
      "3\n"
     ]
    }
   ],
   "source": [
    "print(num1 // num2)"
   ]
  },
  {
   "cell_type": "code",
   "execution_count": 10,
   "metadata": {},
   "outputs": [
    {
     "name": "stdout",
     "output_type": "stream",
     "text": [
      "729\n"
     ]
    }
   ],
   "source": [
    "base = 9\n",
    "print(base ** 3)"
   ]
  },
  {
   "cell_type": "markdown",
   "metadata": {},
   "source": [
    "## 3. 셀 관리 단축키\n",
    "\n",
    "### 명령 모드에서 사용하는 셀 관리 단축키\n",
    "\n",
    "| 단축키 | 설명 | \n",
    "|--------|------|\n",
    "| `A` | **위에 새 셀 추가** (Above) |\n",
    "| `B` | **아래에 새 셀 추가** (Below) |\n",
    "| `DD` | **셀 삭제** (D를 두 번 빠르게) |\n",
    "| `Z` | **실행 취소** (삭제된 셀 복구) |\n",
    "| `C` | **셀 복사** |\n",
    "| `V` | **셀 붙여넣기** |\n",
    "| `X` | **셀 잘라내기** |\n",
    "\n",
    "### 셀 관리 연습\n",
    "\n",
    "**연습 3**: 명령 모드(파란색)에서 다음 단축키들을 연습해보세요\n",
    "**주의**: 반드시 **명령 모드(Esc 키)**에서 실행하세요!\n"
   ]
  },
  {
   "cell_type": "code",
   "execution_count": null,
   "metadata": {},
   "outputs": [],
   "source": []
  },
  {
   "cell_type": "code",
   "execution_count": null,
   "metadata": {},
   "outputs": [],
   "source": []
  },
  {
   "cell_type": "code",
   "execution_count": null,
   "metadata": {},
   "outputs": [],
   "source": []
  },
  {
   "cell_type": "code",
   "execution_count": null,
   "metadata": {},
   "outputs": [],
   "source": []
  },
  {
   "cell_type": "markdown",
   "metadata": {},
   "source": [
    "---\n",
    "## 논리형 (Boolean)\n",
    "\n",
    "### 논리 자료형\n",
    "* **true** 또는 **false** 값을 가지는 자료형\n",
    "* 논리 자료형은 문자열이 아니므로 따옴표( \"\" , '' )로 감싸서는 안되며, 첫 글자를 반드시 대문자로 해야한다.\n",
    "* 또한 논리 자료형은 자료형 자체로 사용하기도 하지만 비교 연산, 논리 연산의 결과로 논리 자료형이 반환된다."
   ]
  },
  {
   "cell_type": "code",
   "execution_count": null,
   "metadata": {},
   "outputs": [],
   "source": []
  },
  {
   "cell_type": "markdown",
   "metadata": {},
   "source": [
    "### 논리 자료형의 연산\n",
    "\n",
    "- 비교 연산 : ==, !=, >, <, >=, <=\n",
    "    - **==** : 좌항과 우항의 값이 동일한지 비교하여, 같으면 True, 같지 않으면 False를 반환한다.\n",
    "    - **!=** : 좌항과 우항의 값이 같지 않은지 비교하여, 서로 다르면 True, 같으면 False를 반환한다.\n",
    "    - **\\>,** < : 일반적으로 수학에서 사용하는 부등호와 같이 좌항과 우항의 크고 작음을 비교한다.\n",
    "    - **\\>=, <=** : 같거나 크다 또는 같거나 작다를 비교한다."
   ]
  },
  {
   "cell_type": "code",
   "execution_count": 11,
   "metadata": {},
   "outputs": [
    {
     "name": "stdout",
     "output_type": "stream",
     "text": [
      "<class 'bool'>\n"
     ]
    }
   ],
   "source": [
    "bol1 = True\n",
    "bol2 = False\n",
    "\n",
    "print(type(bol1))\n"
   ]
  },
  {
   "cell_type": "code",
   "execution_count": 17,
   "metadata": {},
   "outputs": [
    {
     "name": "stdout",
     "output_type": "stream",
     "text": [
      "True\n",
      "False\n"
     ]
    }
   ],
   "source": [
    "a = 123\n",
    "b = 122\n",
    "print(a!=b)\n",
    "\n",
    "print(a < b)"
   ]
  },
  {
   "cell_type": "markdown",
   "metadata": {},
   "source": [
    "### and 연산과 or 연산\n",
    "\n",
    "bol1 = True\n",
    "bol2 = False\n",
    "\n",
    "print(bol1 and bol2)\n"
   ]
  },
  {
   "cell_type": "code",
   "execution_count": 19,
   "metadata": {},
   "outputs": [
    {
     "name": "stdout",
     "output_type": "stream",
     "text": [
      "True\n"
     ]
    }
   ],
   "source": [
    "bol1 = False\n",
    "bol2 = False\n",
    "\n",
    "print(not bol1)\n"
   ]
  },
  {
   "cell_type": "markdown",
   "metadata": {},
   "source": [
    "---\n",
    "## 문자형 (String)\n",
    "### 문자형 선언\n",
    "* 쌍따옴표(\"\") 또는 홀따옴표('')를 사용하여 문자형 값을 선언할 수 있다."
   ]
  },
  {
   "cell_type": "code",
   "execution_count": 21,
   "metadata": {},
   "outputs": [
    {
     "name": "stdout",
     "output_type": "stream",
     "text": [
      "안녕하세요\n"
     ]
    }
   ],
   "source": [
    "text = '안녕하세요'\n",
    "\n",
    "print(text)"
   ]
  },
  {
   "cell_type": "markdown",
   "metadata": {},
   "source": [
    "* 삼중 따옴표를 사용해 여러줄(멀티라인)으로 출력할 수 있다."
   ]
  },
  {
   "cell_type": "code",
   "execution_count": 22,
   "metadata": {},
   "outputs": [
    {
     "name": "stdout",
     "output_type": "stream",
     "text": [
      "\n",
      "안녕하세요\n",
      "반갑습니다\n",
      "이건 여러줄을 표현하는 문자열(멀티라인)입니다.\n",
      "\n"
     ]
    }
   ],
   "source": [
    "text = \"\"\"\n",
    "안녕하세요\n",
    "반갑습니다\n",
    "이건 여러줄을 표현하는 문자열(멀티라인)입니다.\n",
    "\"\"\"\n",
    "\n",
    "print(text)"
   ]
  },
  {
   "cell_type": "markdown",
   "metadata": {},
   "source": [
    "### 문자형 연산"
   ]
  },
  {
   "cell_type": "code",
   "execution_count": 25,
   "metadata": {},
   "outputs": [
    {
     "name": "stdout",
     "output_type": "stream",
     "text": [
      "아버지가 방에 들어가신다\n"
     ]
    }
   ],
   "source": [
    "str1 = '아버지가' \n",
    "str2 = '방에 들어가신다'\n",
    "\n",
    "print(str1 +' '+ str2)"
   ]
  },
  {
   "cell_type": "code",
   "execution_count": null,
   "metadata": {},
   "outputs": [],
   "source": []
  },
  {
   "cell_type": "code",
   "execution_count": null,
   "metadata": {},
   "outputs": [],
   "source": []
  },
  {
   "cell_type": "markdown",
   "metadata": {},
   "source": [
    "### String 내장메소드"
   ]
  },
  {
   "cell_type": "code",
   "execution_count": 27,
   "metadata": {},
   "outputs": [
    {
     "name": "stdout",
     "output_type": "stream",
     "text": [
      "2025/12/25\n",
      "2025-12-25\n"
     ]
    }
   ],
   "source": [
    "date = '2025/12/25'\n",
    "\n",
    "print(date)\n",
    "\n",
    "date = date.replace(\"/\",\"-\")\n",
    "\n",
    "print(date)"
   ]
  },
  {
   "cell_type": "code",
   "execution_count": 35,
   "metadata": {},
   "outputs": [
    {
     "name": "stdout",
     "output_type": "stream",
     "text": [
      "he ll o\n",
      "he ll o\n"
     ]
    }
   ],
   "source": [
    "#strip()\n",
    "#문자열을 제거할 때 사용\n",
    "\n",
    "text = 'he ll o'\n",
    "text2 = text.strip(' ')\n",
    "\n",
    "print(text)\n",
    "print(text2.strip())\n"
   ]
  },
  {
   "cell_type": "code",
   "execution_count": 40,
   "metadata": {},
   "outputs": [
    {
     "name": "stdout",
     "output_type": "stream",
     "text": [
      "HELLO WORLD\n",
      "hello world\n",
      "Hello world\n"
     ]
    }
   ],
   "source": [
    "text = 'hELLO wORLD'\n",
    "\n",
    "print(text.upper())\n",
    "print(text.lower())\n",
    "print(text.capitalize())\n"
   ]
  },
  {
   "cell_type": "markdown",
   "metadata": {},
   "source": [
    "### 02-03-04. 문자형 포맷팅\n",
    "\n",
    "1. % 포맷팅: 변수 포맷을 사용해 문자열에 변수 값을 삽입한다. (오래된 방식)\n",
    "- 변수 포맷 종류\n",
    "    - %s : 문자열\n",
    "    - %c : 문자\n",
    "    - %d : 정수\n",
    "    - %f : 실수"
   ]
  },
  {
   "cell_type": "code",
   "execution_count": 41,
   "metadata": {},
   "outputs": [
    {
     "name": "stdout",
     "output_type": "stream",
     "text": [
      "x is 10\n"
     ]
    }
   ],
   "source": [
    "x = 10\n",
    "print('x is %d' %x)"
   ]
  },
  {
   "cell_type": "markdown",
   "metadata": {},
   "source": [
    "2. format(): 타입 명시 없이 함수를 이용해 문자열에 변수 값을 삽입한다."
   ]
  },
  {
   "cell_type": "code",
   "execution_count": null,
   "metadata": {},
   "outputs": [],
   "source": [
    "x = 10\n",
    "\n",
    "print('x is ')"
   ]
  },
  {
   "cell_type": "markdown",
   "metadata": {},
   "source": [
    "3. f-string: 파이썬 3.6 이상부터 사용가능하며, 문자열 앞에 f를 붙여 사용한다."
   ]
  },
  {
   "cell_type": "code",
   "execution_count": 42,
   "metadata": {},
   "outputs": [
    {
     "name": "stdout",
     "output_type": "stream",
     "text": [
      "x= 10\n"
     ]
    }
   ],
   "source": [
    "x = 10\n",
    "\n",
    "print(f'x= {x}')\n"
   ]
  },
  {
   "cell_type": "markdown",
   "metadata": {},
   "source": [
    "---\n",
    "## 형변환\n",
    "\n",
    "### 형변환이란?\n",
    "- 서로다른 자료형간의 연산을 위해 다른 자료형으로 타입을 변환하는 것"
   ]
  },
  {
   "cell_type": "code",
   "execution_count": 45,
   "metadata": {},
   "outputs": [
    {
     "name": "stdout",
     "output_type": "stream",
     "text": [
      "4\n",
      "8.0\n",
      "16\n"
     ]
    }
   ],
   "source": [
    "print(True + 3)\n",
    "print(3 + 5.0)\n",
    "\n",
    "print(int('13') + 3)"
   ]
  },
  {
   "cell_type": "code",
   "execution_count": null,
   "metadata": {},
   "outputs": [],
   "source": []
  }
 ],
 "metadata": {
  "kernelspec": {
   "display_name": "helloworld",
   "language": "python",
   "name": "python3"
  },
  "language_info": {
   "codemirror_mode": {
    "name": "ipython",
    "version": 3
   },
   "file_extension": ".py",
   "mimetype": "text/x-python",
   "name": "python",
   "nbconvert_exporter": "python",
   "pygments_lexer": "ipython3",
   "version": "3.11.14"
  }
 },
 "nbformat": 4,
 "nbformat_minor": 2
}

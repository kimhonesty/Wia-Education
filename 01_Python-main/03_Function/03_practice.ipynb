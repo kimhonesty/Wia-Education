{
 "cells": [
  {
   "cell_type": "code",
   "execution_count": 12,
   "id": "3bf22996",
   "metadata": {},
   "outputs": [
    {
     "name": "stdout",
     "output_type": "stream",
     "text": [
      "=================================\n",
      "나만의 계산기에 오신 것을 환영합니다!\n",
      "                                \n",
      "사용 가능한 연산\n",
      "1.덧셈(+)\n",
      "2.뺄셈(-)\n",
      "3.곳셈(*)\n",
      "4.나눗셈(/)\n",
      "                                \n",
      "=================================\n",
      "4.0\n",
      "계산기를 사용해주셔서 감사합니다!\n"
     ]
    }
   ],
   "source": [
    "\n",
    "print(\"=================================\")\n",
    "print(\"나만의 계산기에 오신 것을 환영합니다!\")\n",
    "print(\"                                \")\n",
    "print(\"사용 가능한 연산\")\n",
    "print(\"1.덧셈(+)\")\n",
    "print(\"2.뺄셈(-)\")\n",
    "print(\"3.곳셈(*)\")\n",
    "print(\"4.나눗셈(/)\")\n",
    "print(\"                                \")\n",
    "print(\"=================================\")\n",
    "\n",
    "a = 1.0\n",
    "b = 3.0\n",
    "result1 = a + b\n",
    "result2 = a - b\n",
    "result3 = a * b\n",
    "result4 = a / b\n",
    "\n",
    "print(f\"{result1}\")\n",
    "\n",
    "print(\"계산기를 사용해주셔서 감사합니다!\")\n",
    "\n",
    "     \n"
   ]
  },
  {
   "cell_type": "code",
   "execution_count": null,
   "id": "bf8ceff1",
   "metadata": {},
   "outputs": [
    {
     "name": "stdout",
     "output_type": "stream",
     "text": [
      "\n",
      "====== 파이썬 계산기 ======\n",
      "1. 더하기 (+)\n",
      "2. 빼기 (-)\n",
      "3. 곱하기 (*)\n",
      "4. 나누기 (/)\n",
      "5. 종료\n",
      "결과: 4.0 + 2.0 = 6.0\n",
      "\n",
      "====== 파이썬 계산기 ======\n",
      "1. 더하기 (+)\n",
      "2. 빼기 (-)\n",
      "3. 곱하기 (*)\n",
      "4. 나누기 (/)\n",
      "5. 종료\n",
      "계산기를 종료합니다.\n"
     ]
    }
   ],
   "source": [
    "def add(x, y):\n",
    "    return x + y\n",
    "\n",
    "def subtract(x, y):\n",
    "    return x - y\n",
    "\n",
    "def multiply(x, y):\n",
    "    return x * y\n",
    "\n",
    "def divide(x, y):\n",
    "    if y == 0:\n",
    "        return \"0으로 나눌 수 없습니다.\"\n",
    "    return x / y\n",
    "\n",
    "while True:\n",
    "    print(\"\\n====== 파이썬 계산기 ======\")\n",
    "    print(\"1. 더하기 (+)\")\n",
    "    print(\"2. 빼기 (-)\")\n",
    "    print(\"3. 곱하기 (*)\")\n",
    "    print(\"4. 나누기 (/)\")\n",
    "    print(\"5. 종료\")\n",
    "\n",
    "    choice = input(\"원하는 기능 번호를 입력하세요: \")\n",
    "\n",
    "    if choice == '5':\n",
    "        print(\"계산기를 종료합니다.\")\n",
    "        break\n",
    "\n",
    "    if choice not in ('1', '2', '3', '4'):\n",
    "        print(\"올바른 번호를 입력하세요.\")\n",
    "        continue\n",
    "\n",
    "    try:\n",
    "        num1 = float(input(\"첫 번째 숫자를 입력하세요: \"))\n",
    "        num2 = float(input(\"두 번째 숫자를 입력하세요: \"))\n",
    "    except ValueError:\n",
    "        print(\"숫자를 올바르게 입력하세요.\")\n",
    "        continue\n",
    "\n",
    "    if choice == '1':\n",
    "        result = add(num1, num2)\n",
    "        print(f\"결과: {num1} + {num2} = {result}\")\n",
    "    elif choice == '2':\n",
    "        result = subtract(num1, num2)\n",
    "        print(f\"결과: {num1} - {num2} = {result}\")\n",
    "    elif choice == '3':\n",
    "        result = multiply(num1, num2)\n",
    "        print(f\"결과: {num1} * {num2} = {result}\")\n",
    "    elif choice == '4':\n",
    "        result = divide(num1, num2)\n",
    "        print(f\"결과: {num1} / {num2} = {result}\")\n",
    "\n",
    "    \n"
   ]
  }
 ],
 "metadata": {
  "kernelspec": {
   "display_name": "helloworld",
   "language": "python",
   "name": "python3"
  },
  "language_info": {
   "codemirror_mode": {
    "name": "ipython",
    "version": 3
   },
   "file_extension": ".py",
   "mimetype": "text/x-python",
   "name": "python",
   "nbconvert_exporter": "python",
   "pygments_lexer": "ipython3",
   "version": "3.11.14"
  }
 },
 "nbformat": 4,
 "nbformat_minor": 5
}

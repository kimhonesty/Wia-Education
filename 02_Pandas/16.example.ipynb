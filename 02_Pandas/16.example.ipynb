{
 "cells": [
  {
   "cell_type": "code",
   "execution_count": 1,
   "id": "15dbf58b",
   "metadata": {},
   "outputs": [
    {
     "ename": "NameError",
     "evalue": "name 'df' is not defined",
     "output_type": "error",
     "traceback": [
      "\u001b[31m---------------------------------------------------------------------------\u001b[39m",
      "\u001b[31mNameError\u001b[39m                                 Traceback (most recent call last)",
      "\u001b[36mCell\u001b[39m\u001b[36m \u001b[39m\u001b[32mIn[1]\u001b[39m\u001b[32m, line 13\u001b[39m\n\u001b[32m      4\u001b[39m preference_data = {\n\u001b[32m      5\u001b[39m     \u001b[33m'\u001b[39m\u001b[33mUserID\u001b[39m\u001b[33m'\u001b[39m: [\u001b[32m1\u001b[39m, \u001b[32m2\u001b[39m, \u001b[32m3\u001b[39m, \u001b[32m4\u001b[39m, \u001b[32m5\u001b[39m, \u001b[32m6\u001b[39m, \u001b[32m7\u001b[39m, \u001b[32m8\u001b[39m, \u001b[32m9\u001b[39m, \u001b[32m10\u001b[39m],\n\u001b[32m      6\u001b[39m     \u001b[33m'\u001b[39m\u001b[33mContentID\u001b[39m\u001b[33m'\u001b[39m: [\u001b[32m101\u001b[39m, \u001b[32m102\u001b[39m, \u001b[32m101\u001b[39m, \u001b[32m103\u001b[39m, \u001b[32m104\u001b[39m, \u001b[32m105\u001b[39m, \u001b[32m106\u001b[39m, \u001b[32m101\u001b[39m, \u001b[32m107\u001b[39m, \u001b[32m102\u001b[39m],\n\u001b[32m   (...)\u001b[39m\u001b[32m      9\u001b[39m     \u001b[33m'\u001b[39m\u001b[33mReviewDate\u001b[39m\u001b[33m'\u001b[39m: [\u001b[33m'\u001b[39m\u001b[33m2024-02-01\u001b[39m\u001b[33m'\u001b[39m, \u001b[33m'\u001b[39m\u001b[33m2024-02-02\u001b[39m\u001b[33m'\u001b[39m, \u001b[33m'\u001b[39m\u001b[33m2024-02-03\u001b[39m\u001b[33m'\u001b[39m, \u001b[33m'\u001b[39m\u001b[33m2024-02-05\u001b[39m\u001b[33m'\u001b[39m, \u001b[33m'\u001b[39m\u001b[33m2024-02-07\u001b[39m\u001b[33m'\u001b[39m, \u001b[33m'\u001b[39m\u001b[33m2024-02-10\u001b[39m\u001b[33m'\u001b[39m, \u001b[33m'\u001b[39m\u001b[33m2024-02-12\u001b[39m\u001b[33m'\u001b[39m, \u001b[33m'\u001b[39m\u001b[33m2024-02-14\u001b[39m\u001b[33m'\u001b[39m, \u001b[33m'\u001b[39m\u001b[33m2024-02-15\u001b[39m\u001b[33m'\u001b[39m, \u001b[33m'\u001b[39m\u001b[33m2024-02-20\u001b[39m\u001b[33m'\u001b[39m]\n\u001b[32m     10\u001b[39m }\n\u001b[32m     11\u001b[39m df_preference = pd.DataFrame(preference_data)\n\u001b[32m---> \u001b[39m\u001b[32m13\u001b[39m \u001b[43mdf\u001b[49m\n",
      "\u001b[31mNameError\u001b[39m: name 'df' is not defined"
     ]
    }
   ],
   "source": [
    "import pandas as pd\n",
    "\n",
    "# 예시 컨텐츠 선호 데이터\n",
    "preference_data = {\n",
    "    'UserID': [1, 2, 3, 4, 5, 6, 7, 8, 9, 10],\n",
    "    'ContentID': [101, 102, 101, 103, 104, 105, 106, 101, 107, 102],\n",
    "    'ContentType': ['Movie', 'Music', 'Movie', 'Book', 'Movie', 'Music', 'Book', 'Movie', 'Music', 'Book'],\n",
    "    'Rating': [5, 3, 4, 2, 5, 4, 3, 4, 5, 2],\n",
    "    'ReviewDate': ['2024-02-01', '2024-02-02', '2024-02-03', '2024-02-05', '2024-02-07', '2024-02-10', '2024-02-12', '2024-02-14', '2024-02-15', '2024-02-20']\n",
    "}\n",
    "df_preference = pd.DataFrame(preference_data)\n",
    "\n",
    "df\n",
    "\n"
   ]
  },
  {
   "cell_type": "code",
   "execution_count": null,
   "id": "0aa60d18",
   "metadata": {},
   "outputs": [],
   "source": [
    "1. 각 컨텐츠 타입(`ContentType`)별로 평균 평점을 계산하세요.\n",
    "2. 가장 높은 평점을 받은 `ContentID`와 해당 평점을 구하세요.\n",
    "3. `ReviewDate`가 2024년 2월 10일 이후인 리뷰 중에서 `Rating`이 4 이상인 데이터를 필터링하여 출력하세요.\n",
    "4. 각 사용자(`UserID`)가 평가한 컨텐츠 수를 계산하고, 이를 출력하세요."
   ]
  }
 ],
 "metadata": {
  "kernelspec": {
   "display_name": "helloworld",
   "language": "python",
   "name": "python3"
  },
  "language_info": {
   "codemirror_mode": {
    "name": "ipython",
    "version": 3
   },
   "file_extension": ".py",
   "mimetype": "text/x-python",
   "name": "python",
   "nbconvert_exporter": "python",
   "pygments_lexer": "ipython3",
   "version": "3.11.14"
  }
 },
 "nbformat": 4,
 "nbformat_minor": 5
}

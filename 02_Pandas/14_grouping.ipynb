{
 "cells": [
  {
   "cell_type": "markdown",
   "id": "17d25769",
   "metadata": {},
   "source": [
    "# 14. 그룹화\n",
    "---\n",
    "- 동일한 값을 가진 것들끼리 합쳐서 통계 또는 평균 등의 값을 계산하기 위해 사용"
   ]
  },
  {
   "cell_type": "code",
   "execution_count": 1,
   "id": "3de65f9f",
   "metadata": {},
   "outputs": [
    {
     "data": {
      "text/html": [
       "<div>\n",
       "<style scoped>\n",
       "    .dataframe tbody tr th:only-of-type {\n",
       "        vertical-align: middle;\n",
       "    }\n",
       "\n",
       "    .dataframe tbody tr th {\n",
       "        vertical-align: top;\n",
       "    }\n",
       "\n",
       "    .dataframe thead th {\n",
       "        text-align: right;\n",
       "    }\n",
       "</style>\n",
       "<table border=\"1\" class=\"dataframe\">\n",
       "  <thead>\n",
       "    <tr style=\"text-align: right;\">\n",
       "      <th></th>\n",
       "      <th>고객명</th>\n",
       "      <th>나이</th>\n",
       "      <th>거주도시</th>\n",
       "      <th>주요관심사</th>\n",
       "      <th>최근1년_방문빈도</th>\n",
       "      <th>평균구매액(만원)</th>\n",
       "      <th>고객만족도(점)</th>\n",
       "      <th>재구매의사(점)</th>\n",
       "    </tr>\n",
       "    <tr>\n",
       "      <th>고객ID</th>\n",
       "      <th></th>\n",
       "      <th></th>\n",
       "      <th></th>\n",
       "      <th></th>\n",
       "      <th></th>\n",
       "      <th></th>\n",
       "      <th></th>\n",
       "      <th></th>\n",
       "    </tr>\n",
       "  </thead>\n",
       "  <tbody>\n",
       "    <tr>\n",
       "      <th>C001</th>\n",
       "      <td>박태근</td>\n",
       "      <td>35</td>\n",
       "      <td>시흥</td>\n",
       "      <td>Electronics</td>\n",
       "      <td>75</td>\n",
       "      <td>70</td>\n",
       "      <td>78</td>\n",
       "      <td>92</td>\n",
       "    </tr>\n",
       "    <tr>\n",
       "      <th>C002</th>\n",
       "      <td>이영희</td>\n",
       "      <td>30</td>\n",
       "      <td>안양</td>\n",
       "      <td>fashion</td>\n",
       "      <td>85</td>\n",
       "      <td>92</td>\n",
       "      <td>88</td>\n",
       "      <td>85</td>\n",
       "    </tr>\n",
       "    <tr>\n",
       "      <th>C003</th>\n",
       "      <td>박지성</td>\n",
       "      <td>35</td>\n",
       "      <td>울산</td>\n",
       "      <td>NaN</td>\n",
       "      <td>95</td>\n",
       "      <td>110</td>\n",
       "      <td>91</td>\n",
       "      <td>88</td>\n",
       "    </tr>\n",
       "    <tr>\n",
       "      <th>C004</th>\n",
       "      <td>최민아</td>\n",
       "      <td>40</td>\n",
       "      <td>창원</td>\n",
       "      <td>Fashion</td>\n",
       "      <td>92</td>\n",
       "      <td>105</td>\n",
       "      <td>82</td>\n",
       "      <td>96</td>\n",
       "    </tr>\n",
       "    <tr>\n",
       "      <th>C005</th>\n",
       "      <td>정수빈</td>\n",
       "      <td>28</td>\n",
       "      <td>구로</td>\n",
       "      <td>Fashion</td>\n",
       "      <td>82</td>\n",
       "      <td>88</td>\n",
       "      <td>94</td>\n",
       "      <td>79</td>\n",
       "    </tr>\n",
       "    <tr>\n",
       "      <th>C006</th>\n",
       "      <td>윤태영</td>\n",
       "      <td>27</td>\n",
       "      <td>시흥</td>\n",
       "      <td>Electronics</td>\n",
       "      <td>88</td>\n",
       "      <td>95</td>\n",
       "      <td>85</td>\n",
       "      <td>91</td>\n",
       "    </tr>\n",
       "    <tr>\n",
       "      <th>C007</th>\n",
       "      <td>한유진</td>\n",
       "      <td>31</td>\n",
       "      <td>파주</td>\n",
       "      <td>NaN</td>\n",
       "      <td>68</td>\n",
       "      <td>65</td>\n",
       "      <td>77</td>\n",
       "      <td>83</td>\n",
       "    </tr>\n",
       "    <tr>\n",
       "      <th>C008</th>\n",
       "      <td>강민호</td>\n",
       "      <td>29</td>\n",
       "      <td>일산</td>\n",
       "      <td>Sports</td>\n",
       "      <td>98</td>\n",
       "      <td>125</td>\n",
       "      <td>96</td>\n",
       "      <td>90</td>\n",
       "    </tr>\n",
       "  </tbody>\n",
       "</table>\n",
       "</div>"
      ],
      "text/plain": [
       "      고객명  나이 거주도시        주요관심사  최근1년_방문빈도  평균구매액(만원)  고객만족도(점)  재구매의사(점)\n",
       "고객ID                                                                     \n",
       "C001  박태근  35   시흥  Electronics         75         70        78        92\n",
       "C002  이영희  30   안양      fashion         85         92        88        85\n",
       "C003  박지성  35   울산          NaN         95        110        91        88\n",
       "C004  최민아  40   창원      Fashion         92        105        82        96\n",
       "C005  정수빈  28   구로      Fashion         82         88        94        79\n",
       "C006  윤태영  27   시흥  Electronics         88         95        85        91\n",
       "C007  한유진  31   파주          NaN         68         65        77        83\n",
       "C008  강민호  29   일산       Sports         98        125        96        90"
      ]
     },
     "execution_count": 1,
     "metadata": {},
     "output_type": "execute_result"
    }
   ],
   "source": [
    "import pandas as pd\n",
    "df = pd.read_csv('data/customers3.csv', index_col='고객ID')\n",
    "df"
   ]
  },
  {
   "cell_type": "markdown",
   "id": "3fcf9f38",
   "metadata": {},
   "source": [
    "**`groupby()` 함수**\n",
    "- 데이터를 특정 기준에 따라 그룹화하여 집계 연산을 수행한다.\n",
    "- 이를 통해 데이터의 패턴을 발견하거나 요약 통계를 얻는 데 매우 유용하다.        \n",
    "- 기본적인 그룹화`groupby()`는 주어진 열을 기준으로 데이터를 그룹화하고, <br>\n",
    "    그 결과에 대해 다양한 집계 연산을 적용할 수 있다"
   ]
  },
  {
   "cell_type": "code",
   "execution_count": null,
   "id": "cff3d68a",
   "metadata": {},
   "outputs": [],
   "source": []
  },
  {
   "cell_type": "code",
   "execution_count": null,
   "id": "d7e2cdcf",
   "metadata": {},
   "outputs": [],
   "source": []
  },
  {
   "cell_type": "code",
   "execution_count": null,
   "id": "2c5a9d7c",
   "metadata": {},
   "outputs": [],
   "source": []
  },
  {
   "cell_type": "code",
   "execution_count": null,
   "id": "c40973fb",
   "metadata": {},
   "outputs": [],
   "source": []
  },
  {
   "cell_type": "markdown",
   "id": "b287f2f1",
   "metadata": {},
   "source": [
    "**`agg()`**\n",
    "- 그룹화된 데이터에 대해 원하는 집계 연산을 적용하여 요약 통계를 얻을 수 있다."
   ]
  },
  {
   "cell_type": "markdown",
   "id": "2c0c3a97",
   "metadata": {},
   "source": [
    "데이터 집계함수를 사용해보기 위한 DataFrame 수정"
   ]
  },
  {
   "cell_type": "code",
   "execution_count": null,
   "id": "80194406",
   "metadata": {},
   "outputs": [],
   "source": []
  },
  {
   "cell_type": "code",
   "execution_count": null,
   "id": "46bae617",
   "metadata": {},
   "outputs": [],
   "source": []
  },
  {
   "cell_type": "markdown",
   "id": "099781f2",
   "metadata": {},
   "source": [
    "주요관심사별로 고객만족도와 재구매의사의 최소,최대,총합,평균 계산"
   ]
  },
  {
   "cell_type": "code",
   "execution_count": null,
   "id": "52ea8b7b",
   "metadata": {},
   "outputs": [],
   "source": []
  }
 ],
 "metadata": {
  "kernelspec": {
   "display_name": "helloworld",
   "language": "python",
   "name": "python3"
  },
  "language_info": {
   "codemirror_mode": {
    "name": "ipython",
    "version": 3
   },
   "file_extension": ".py",
   "mimetype": "text/x-python",
   "name": "python",
   "nbconvert_exporter": "python",
   "pygments_lexer": "ipython3",
   "version": "3.11.14"
  }
 },
 "nbformat": 4,
 "nbformat_minor": 5
}

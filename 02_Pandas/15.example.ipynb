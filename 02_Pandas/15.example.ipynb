{
 "cells": [
  {
   "cell_type": "code",
   "execution_count": 8,
   "id": "96955374",
   "metadata": {},
   "outputs": [
    {
     "data": {
      "text/html": [
       "<div>\n",
       "<style scoped>\n",
       "    .dataframe tbody tr th:only-of-type {\n",
       "        vertical-align: middle;\n",
       "    }\n",
       "\n",
       "    .dataframe tbody tr th {\n",
       "        vertical-align: top;\n",
       "    }\n",
       "\n",
       "    .dataframe thead th {\n",
       "        text-align: right;\n",
       "    }\n",
       "</style>\n",
       "<table border=\"1\" class=\"dataframe\">\n",
       "  <thead>\n",
       "    <tr style=\"text-align: right;\">\n",
       "      <th></th>\n",
       "      <th>OrderID</th>\n",
       "      <th>Product</th>\n",
       "      <th>Quantity</th>\n",
       "      <th>Price</th>\n",
       "      <th>CustomerID</th>\n",
       "      <th>OrderDate</th>\n",
       "    </tr>\n",
       "  </thead>\n",
       "  <tbody>\n",
       "    <tr>\n",
       "      <th>0</th>\n",
       "      <td>101</td>\n",
       "      <td>Laptop</td>\n",
       "      <td>1</td>\n",
       "      <td>1200</td>\n",
       "      <td>1001</td>\n",
       "      <td>2024-01-05</td>\n",
       "    </tr>\n",
       "    <tr>\n",
       "      <th>1</th>\n",
       "      <td>102</td>\n",
       "      <td>Mouse</td>\n",
       "      <td>2</td>\n",
       "      <td>25</td>\n",
       "      <td>1002</td>\n",
       "      <td>2024-01-06</td>\n",
       "    </tr>\n",
       "    <tr>\n",
       "      <th>2</th>\n",
       "      <td>103</td>\n",
       "      <td>Laptop</td>\n",
       "      <td>1</td>\n",
       "      <td>1200</td>\n",
       "      <td>1001</td>\n",
       "      <td>2024-01-07</td>\n",
       "    </tr>\n",
       "    <tr>\n",
       "      <th>3</th>\n",
       "      <td>104</td>\n",
       "      <td>Monitor</td>\n",
       "      <td>1</td>\n",
       "      <td>300</td>\n",
       "      <td>1003</td>\n",
       "      <td>2024-01-10</td>\n",
       "    </tr>\n",
       "    <tr>\n",
       "      <th>4</th>\n",
       "      <td>105</td>\n",
       "      <td>Mouse</td>\n",
       "      <td>2</td>\n",
       "      <td>25</td>\n",
       "      <td>1004</td>\n",
       "      <td>2024-01-12</td>\n",
       "    </tr>\n",
       "    <tr>\n",
       "      <th>5</th>\n",
       "      <td>106</td>\n",
       "      <td>Keyboard</td>\n",
       "      <td>1</td>\n",
       "      <td>100</td>\n",
       "      <td>1002</td>\n",
       "      <td>2024-01-15</td>\n",
       "    </tr>\n",
       "    <tr>\n",
       "      <th>6</th>\n",
       "      <td>107</td>\n",
       "      <td>Laptop</td>\n",
       "      <td>1</td>\n",
       "      <td>1200</td>\n",
       "      <td>1001</td>\n",
       "      <td>2024-01-18</td>\n",
       "    </tr>\n",
       "    <tr>\n",
       "      <th>7</th>\n",
       "      <td>108</td>\n",
       "      <td>Mouse</td>\n",
       "      <td>3</td>\n",
       "      <td>25</td>\n",
       "      <td>1003</td>\n",
       "      <td>2024-01-20</td>\n",
       "    </tr>\n",
       "    <tr>\n",
       "      <th>8</th>\n",
       "      <td>109</td>\n",
       "      <td>Monitor</td>\n",
       "      <td>1</td>\n",
       "      <td>300</td>\n",
       "      <td>1005</td>\n",
       "      <td>2024-01-22</td>\n",
       "    </tr>\n",
       "    <tr>\n",
       "      <th>9</th>\n",
       "      <td>110</td>\n",
       "      <td>Keyboard</td>\n",
       "      <td>1</td>\n",
       "      <td>100</td>\n",
       "      <td>1002</td>\n",
       "      <td>2024-01-25</td>\n",
       "    </tr>\n",
       "  </tbody>\n",
       "</table>\n",
       "</div>"
      ],
      "text/plain": [
       "   OrderID   Product  Quantity  Price  CustomerID   OrderDate\n",
       "0      101    Laptop         1   1200        1001  2024-01-05\n",
       "1      102     Mouse         2     25        1002  2024-01-06\n",
       "2      103    Laptop         1   1200        1001  2024-01-07\n",
       "3      104   Monitor         1    300        1003  2024-01-10\n",
       "4      105     Mouse         2     25        1004  2024-01-12\n",
       "5      106  Keyboard         1    100        1002  2024-01-15\n",
       "6      107    Laptop         1   1200        1001  2024-01-18\n",
       "7      108     Mouse         3     25        1003  2024-01-20\n",
       "8      109   Monitor         1    300        1005  2024-01-22\n",
       "9      110  Keyboard         1    100        1002  2024-01-25"
      ]
     },
     "execution_count": 8,
     "metadata": {},
     "output_type": "execute_result"
    }
   ],
   "source": [
    "import pandas as pd\n",
    "\n",
    "# 예시 상품 판매 데이터\n",
    "sales_data = {\n",
    "    'OrderID': [101, 102, 103, 104, 105, 106, 107, 108, 109, 110],\n",
    "    'Product': ['Laptop', 'Mouse', 'Laptop', 'Monitor', 'Mouse', 'Keyboard', 'Laptop', 'Mouse', 'Monitor', 'Keyboard'],\n",
    "    'Quantity': [1, 2, 1, 1, 2, 1, 1, 3, 1, 1],\n",
    "    'Price': [1200, 25, 1200, 300, 25, 100, 1200, 25, 300, 100],\n",
    "    'CustomerID': [1001, 1002, 1001, 1003, 1004, 1002, 1001, 1003, 1005, 1002],\n",
    "    'OrderDate': ['2024-01-05', '2024-01-06', '2024-01-07', '2024-01-10', '2024-01-12', '2024-01-15', '2024-01-18', '2024-01-20', '2024-01-22', '2024-01-25']\n",
    "}\n",
    "df_sales = pd.DataFrame(sales_data)\n",
    "df_sales"
   ]
  },
  {
   "cell_type": "code",
   "execution_count": null,
   "id": "4d1bcf96",
   "metadata": {},
   "outputs": [
    {
     "name": "stdout",
     "output_type": "stream",
     "text": [
      "   CustomerID  Total\n",
      "0        1001   3600\n",
      "1        1002    250\n",
      "2        1003    375\n",
      "3        1004     50\n",
      "4        1005    300\n"
     ]
    }
   ],
   "source": [
    "##1. 각 고객(`CustomerID`)별로 총 구매 금액을 계산하세요.\n",
    "df_sales['Total'] = df_sales['Quantity'] * df_sales['Price']\n",
    "\n",
    "total_by_customer = df_sales.groupby('CustomerID')['Total'].sum().reset_index()\n",
    "print(total_by_customer)\n",
    "\n",
    "\n"
   ]
  },
  {
   "cell_type": "code",
   "execution_count": 11,
   "id": "b58b6618",
   "metadata": {},
   "outputs": [
    {
     "name": "stdout",
     "output_type": "stream",
     "text": [
      "1200.0\n"
     ]
    },
    {
     "name": "stderr",
     "output_type": "stream",
     "text": [
      "C:\\Users\\WIA\\AppData\\Local\\Temp\\ipykernel_19960\\3478247686.py:7: SettingWithCopyWarning: \n",
      "A value is trying to be set on a copy of a slice from a DataFrame.\n",
      "Try using .loc[row_indexer,col_indexer] = value instead\n",
      "\n",
      "See the caveats in the documentation: https://pandas.pydata.org/pandas-docs/stable/user_guide/indexing.html#returning-a-view-versus-a-copy\n",
      "  laptop_df['PurchaseAmount'] = laptop_df['Quantity'] * laptop_df['Price']\n"
     ]
    }
   ],
   "source": [
    "##2. `Laptop`을 구매한 고객들의 평균 구매 금액을 계산하세요.\n",
    "\n",
    "# 1. 'Laptop' 구매 내역만 추출\n",
    "laptop_df = df_sales[df_sales['Product'] == 'Laptop']\n",
    "\n",
    "# 2. 개별 구매 금액 계산 (이미 'Total' 컬럼이 있다면 사용, 없으면 계산)\n",
    "laptop_df['PurchaseAmount'] = laptop_df['Quantity'] * laptop_df['Price']\n",
    "\n",
    "# 3. 평균 구매 금액 계산\n",
    "mean_purchase = laptop_df['PurchaseAmount'].mean()\n",
    "\n",
    "print(mean_purchase)\n"
   ]
  },
  {
   "cell_type": "code",
   "execution_count": 12,
   "id": "9d1e1d2a",
   "metadata": {},
   "outputs": [
    {
     "name": "stdout",
     "output_type": "stream",
     "text": [
      "가장 많이 판매된 상품: Mouse\n",
      "총 판매 수량: 7\n"
     ]
    }
   ],
   "source": [
    "##3. 가장 많이 판매된 상품(상품 이름과 판매된 총 수량)을 구하세요.\n",
    "# 상품별 판매 총 수량 집계\n",
    "product_sales = df_sales.groupby('Product')['Quantity'].sum()\n",
    "\n",
    "# 가장 많이 판매된 상품 찾기\n",
    "max_product = product_sales.idxmax()    # 가장 많이 팔린 상품 이름\n",
    "max_quantity = product_sales.max()      # 그 상품의 총 판매 수량\n",
    "\n",
    "print(\"가장 많이 판매된 상품:\", max_product)\n",
    "print(\"총 판매 수량:\", max_quantity)\n"
   ]
  },
  {
   "cell_type": "code",
   "execution_count": 13,
   "id": "701c5316",
   "metadata": {},
   "outputs": [
    {
     "name": "stdout",
     "output_type": "stream",
     "text": [
      "   OrderID   Product  Quantity  Price  CustomerID  OrderDate  Total\n",
      "4      105     Mouse         2     25        1004 2024-01-12     50\n",
      "5      106  Keyboard         1    100        1002 2024-01-15    100\n",
      "6      107    Laptop         1   1200        1001 2024-01-18   1200\n",
      "7      108     Mouse         3     25        1003 2024-01-20     75\n",
      "8      109   Monitor         1    300        1005 2024-01-22    300\n",
      "9      110  Keyboard         1    100        1002 2024-01-25    100\n"
     ]
    }
   ],
   "source": [
    "##4. `OrderDate`가 2024년 1월 10일 이후인 주문만 필터링하여 출력하세요.\n",
    "\n",
    "# 1. OrderDate를 datetime으로 변환\n",
    "df_sales['OrderDate'] = pd.to_datetime(df_sales['OrderDate'])\n",
    "\n",
    "# 2. 2024년 1월 10일 이후 주문만 필터링\n",
    "filtered_df = df_sales[df_sales['OrderDate'] > '2024-01-10']\n",
    "\n",
    "# 3. 결과 출력\n",
    "print(filtered_df)\n"
   ]
  },
  {
   "cell_type": "code",
   "execution_count": 14,
   "id": "b96b2139",
   "metadata": {},
   "outputs": [
    {
     "name": "stdout",
     "output_type": "stream",
     "text": [
      "    Product  Quantity  Total  Price\n",
      "1    Laptop         3   3600   1200\n",
      "2   Monitor         2    600    300\n",
      "0  Keyboard         2    200    100\n",
      "3     Mouse         7    175     25\n"
     ]
    }
   ],
   "source": [
    "##5. `Product`별로 판매량과 총 판매 금액을 계산한 후, 이를 `Price` 기준으로 내림차순으로 정렬하여 출력하세요.\n",
    "\n",
    "# 1. 상품별로 판매량과 총 판매금액 집계\n",
    "product_summary = df_sales.groupby('Product').agg({\n",
    "    'Quantity': 'sum',\n",
    "    'Total': 'sum',\n",
    "    'Price': 'max'   # Price 컬럼이 상품마다 다르지 않으면 min이나 max 아무거나 써도 됨\n",
    "}).reset_index()\n",
    "\n",
    "# 2. Price 기준으로 내림차순 정렬\n",
    "sorted_summary = product_summary.sort_values('Price', ascending=False)\n",
    "\n",
    "# 3. 결과 출력\n",
    "print(sorted_summary[['Product', 'Quantity', 'Total', 'Price']])"
   ]
  }
 ],
 "metadata": {
  "kernelspec": {
   "display_name": "helloworld",
   "language": "python",
   "name": "python3"
  },
  "language_info": {
   "codemirror_mode": {
    "name": "ipython",
    "version": 3
   },
   "file_extension": ".py",
   "mimetype": "text/x-python",
   "name": "python",
   "nbconvert_exporter": "python",
   "pygments_lexer": "ipython3",
   "version": "3.11.14"
  }
 },
 "nbformat": 4,
 "nbformat_minor": 5
}
